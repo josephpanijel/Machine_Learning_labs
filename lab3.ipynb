{
 "cells": [
  {
   "cell_type": "code",
   "execution_count": 1,
   "metadata": {},
   "outputs": [],
   "source": [
    "import numpy as np\n",
    "import scipy.linalg as linalg"
   ]
  },
  {
   "cell_type": "code",
   "execution_count": 2,
   "metadata": {},
   "outputs": [],
   "source": [
    "# random seed for reproducible results\n",
    "np.random.seed(1)"
   ]
  },
  {
   "cell_type": "code",
   "execution_count": 3,
   "metadata": {},
   "outputs": [],
   "source": [
    "my_data = np.genfromtxt('wine_data.csv', delimiter=',')\n",
    "n_train = 100\n",
    "\n",
    "np.random.shuffle(my_data)  # shuffle datataset\n",
    "trainingData = my_data[:n_train, 1:]  # training data\n",
    "trainingLabels = my_data[:n_train, 0]  # class labels of training data\n",
    "\n",
    "testData = my_data[n_train:, 1:]  # training data\n",
    "testLabels = my_data[n_train:, 0]  # class labels of training data"
   ]
  },
  {
   "cell_type": "code",
   "execution_count": 4,
   "metadata": {},
   "outputs": [],
   "source": [
    "def my_LDA(X, Y):\n",
    "    \"\"\"\n",
    "    Train a LDA classifier from the training set\n",
    "    X: training data\n",
    "    Y: class labels of training data\n",
    "\n",
    "    \"\"\"    \n",
    "    \n",
    "    classLabels = np.unique(Y)\n",
    "    classNum = len(classLabels)\n",
    "    datanum, dim = X.shape\n",
    "    totalMean = np.mean(X, 0)\n",
    "\n",
    "    # partition class labels per label - list of arrays per label\n",
    "    partition = [np.where(Y == label)[0] for label in classLabels]\n",
    "\n",
    "    # find mean value per class (per attribute) - list of arrays per label\n",
    "    classMean = [(np.mean(X[idx], axis=0), len(idx)) for idx in partition]\n",
    "\n",
    "    # Compute the within-class scatter matrix\n",
    "    Sw = np.zeros((dim, dim))\n",
    "    for idx in partition:\n",
    "        Sw += np.cov(X[idx], rowvar=0) * (len(idx)-1)# covariance matrix * fraction of instances per class\n",
    "\n",
    "    # Compute the between-class scatter matrix\n",
    "    Sb = np.zeros((dim,dim))\n",
    "    for mu,class_size in classMean:\n",
    "        temp = mu-totalMean\n",
    "        temp = temp.reshape(dim,1)\n",
    "        Sb += class_size * np.dot(temp, np.transpose(temp))   \n",
    "\n",
    "    # Solve the eigenvalue problem for discriminant directions to maximize class seperability while simultaneously minimizing\n",
    "    # the variance within each class\n",
    "    # The exception code can be ignored for the example dataset\n",
    "    try:\n",
    "        S = np.dot(linalg.inv(Sw), Sb)\n",
    "        eigval, eigvec = linalg.eig(S)\n",
    "    except: #Singular Matrix\n",
    "        print(\"Singular matrix\")\n",
    "        eigval, eigvec = linalg.eig(Sb, Sw+Sb)\n",
    "\n",
    "    idx = eigval.argsort()[::-1] # Sort eigenvalues\n",
    "    eigvec = eigvec[:,idx] # Sort eigenvectors according to eigenvalues\n",
    "    W = np.real(eigvec[:,:classNum-1]) # eigenvectors correspond to k-1 largest eigenvalues\n",
    "\n",
    "\n",
    "    # Project data onto the new LDA space\n",
    "    X_lda = np.real(np.dot(X, np.real(W)))\n",
    "\n",
    "    # project the mean vectors of each class onto the LDA space\n",
    "    projected_centroid = [np.dot(mu, np.real(W)) for mu,class_size in classMean]\n",
    "\n",
    "    return W, projected_centroid, X_lda"
   ]
  },
  {
   "cell_type": "code",
   "execution_count": 5,
   "metadata": {},
   "outputs": [],
   "source": [
    "# training LDA classifier\n",
    "W, projected_centroid, X_lda = my_LDA(trainingData, trainingLabels)"
   ]
  },
  {
   "cell_type": "code",
   "execution_count": 6,
   "metadata": {},
   "outputs": [],
   "source": [
    "def predict(X, projected_centroid, W):\n",
    "    \"\"\"Apply the trained LDA classifier on the test data \n",
    "    X: test data\n",
    "    projected_centroid: centroid vectors of each class projected to the new space\n",
    "    W: projection matrix computed by LDA\n",
    "    \"\"\"\n",
    "\n",
    "    # Project test data onto the LDA space defined by W \n",
    "    projected_data  = np.dot(X, W)\n",
    "    \n",
    "    # Compute distances from centroid vectors\n",
    "    dist = [linalg.norm(data-centroid) for data in projected_data for centroid in projected_centroid]\n",
    "    Y_raw = np.reshape(np.array(dist), (len(X),len(projected_centroid)))\n",
    "    \n",
    "    # Assign the label of the closed centroid vector\n",
    "    label = Y_raw.argmin(axis=1)\n",
    "\n",
    "    return label"
   ]
  },
  {
   "cell_type": "code",
   "execution_count": 7,
   "metadata": {},
   "outputs": [
    {
     "name": "stdout",
     "output_type": "stream",
     "text": [
      "Accuracy of LDA: 98.717949\n"
     ]
    }
   ],
   "source": [
    "# Perform predictions for the test data\n",
    "predictedLabels = predict(testData, projected_centroid, W)\n",
    "predictedLabels = predictedLabels+1\n",
    "\n",
    "\n",
    "# Compute accuracy\n",
    "counter = 0\n",
    "for i in range(predictedLabels.size):\n",
    "    if predictedLabels[i] == testLabels[i]:\n",
    "        counter += 1\n",
    "print('Accuracy of LDA: %f' % (counter / float(predictedLabels.size) * 100.0))"
   ]
  },
  {
   "cell_type": "code",
   "execution_count": null,
   "metadata": {
    "collapsed": true
   },
   "outputs": [],
   "source": []
  }
 ],
 "metadata": {
  "kernelspec": {
   "display_name": "Python 3",
   "language": "python",
   "name": "python3"
  },
  "language_info": {
   "codemirror_mode": {
    "name": "ipython",
    "version": 3
   },
   "file_extension": ".py",
   "mimetype": "text/x-python",
   "name": "python",
   "nbconvert_exporter": "python",
   "pygments_lexer": "ipython3",
   "version": "3.7.4"
  }
 },
 "nbformat": 4,
 "nbformat_minor": 2
}
