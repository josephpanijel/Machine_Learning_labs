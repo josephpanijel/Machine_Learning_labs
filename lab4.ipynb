{
 "cells": [
  {
   "cell_type": "code",
   "execution_count": 1,
   "metadata": {},
   "outputs": [],
   "source": [
    "import numpy as np\n",
    "import matplotlib.pyplot as plt\n",
    "from loadMnist import loadMnist\n",
    "from kNN import kNN"
   ]
  },
  {
   "cell_type": "code",
   "execution_count": 2,
   "metadata": {},
   "outputs": [
    {
     "name": "stdout",
     "output_type": "stream",
     "text": [
      "[0 1 2 3 4 5 6 7 8 9]\n"
     ]
    }
   ],
   "source": [
    "# Load training and test data\n",
    "trainingImages, trainingLabels = loadMnist('training')\n",
    "testImages, testLabels = loadMnist('testing')\n",
    "\n",
    "print(np.unique(trainingLabels))"
   ]
  },
  {
   "cell_type": "code",
   "execution_count": 3,
   "metadata": {},
   "outputs": [],
   "source": [
    "# Keep a subset of the training (60,000 images) and test (10,000) data\n",
    "trainingImages = trainingImages[:2000,:]\n",
    "trainingLabels = trainingLabels[:2000]\n",
    "\n",
    "# Test for only a subset of the dataset (e.g., 20 images) to keep the running time relatively low\n",
    "testImages = testImages[:20,:]\n",
    "testLabels = testLabels[:20]"
   ]
  },
  {
   "cell_type": "code",
   "execution_count": 4,
   "metadata": {},
   "outputs": [
    {
     "data": {
      "image/png": "[encoded data removed]",
      "text/plain": [
       "<Figure size 432x288 with 10 Axes>"
      ]
     },
     "metadata": {
      "needs_background": "light"
     },
     "output_type": "display_data"
    }
   ],
   "source": [
    "# Show the first ten digits\n",
    "fig = plt.figure('First 10 Digits') \n",
    "for i in range(10):\n",
    "    a = fig.add_subplot(2,5,i+1) \n",
    "    plt.imshow(testImages[i,:].reshape(28,28), cmap=plt.cm.gray)\n",
    "    plt.axis('off')\n",
    "\n",
    "plt.show()"
   ]
  },
  {
   "cell_type": "code",
   "execution_count": 5,
   "metadata": {},
   "outputs": [
    {
     "name": "stdout",
     "output_type": "stream",
     "text": [
      "Current Test Instance: 1\n",
      "Current Test Instance: 2\n",
      "Current Test Instance: 3\n",
      "Current Test Instance: 4\n",
      "Current Test Instance: 5\n",
      "Current Test Instance: 6\n",
      "Current Test Instance: 7\n",
      "Current Test Instance: 8\n",
      "Current Test Instance: 9\n",
      "Current Test Instance: 10\n",
      "Current Test Instance: 11\n",
      "Current Test Instance: 12\n",
      "Current Test Instance: 13\n",
      "Current Test Instance: 14\n",
      "Current Test Instance: 15\n",
      "Current Test Instance: 16\n",
      "Current Test Instance: 17\n",
      "Current Test Instance: 18\n",
      "Current Test Instance: 19\n",
      "Current Test Instance: 20\n",
      "Accuracy: 0.85\n"
     ]
    }
   ],
   "source": [
    "# Run kNN algorithm\n",
    "k = 2\n",
    "predictedDigits = np.zeros(testImages.shape[0])\n",
    "\n",
    "for i in range(testImages.shape[0]):\n",
    "    print(\"Current Test Instance: \" + str(i+1))\n",
    "    predictedDigits[i] = kNN(k, trainingImages, trainingLabels, testImages[i,:])\n",
    "    \n",
    "# Calculate accuracy\n",
    "correct = 0\n",
    "\n",
    "for i in range(testImages.shape[0]):\n",
    "    if predictedDigits[i] == testLabels[i]:\n",
    "        correct += 1\n",
    "        \n",
    "accuracy = correct/float(testImages.shape[0])\n",
    "print(\"Accuracy: \" + str(accuracy))"
   ]
  }
 ],
 "metadata": {
  "kernelspec": {
   "display_name": "Python 3",
   "language": "python",
   "name": "python3"
  },
  "language_info": {
   "codemirror_mode": {
    "name": "ipython",
    "version": 3
   },
   "file_extension": ".py",
   "mimetype": "text/x-python",
   "name": "python",
   "nbconvert_exporter": "python",
   "pygments_lexer": "ipython3",
   "version": "3.7.4"
  }
 },
 "nbformat": 4,
 "nbformat_minor": 2
}
